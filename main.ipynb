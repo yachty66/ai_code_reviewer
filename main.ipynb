{
 "cells": [
  {
   "cell_type": "code",
   "execution_count": null,
   "metadata": {},
   "outputs": [],
   "source": [
    "\"\"\"\n",
    "activity i need to capture:\n",
    "\n",
    "- total commits\n",
    "- total lines of code added\n",
    "- total lines of code removed\n",
    "\n",
    "- commits per repository \n",
    "    - display org and reponame together with number of commits\n",
    "- repositories created\n",
    "    - name of repo\n",
    "- issues opened \n",
    "    - name of repo and headline of issue\n",
    "- pull requests opened\n",
    "    - name of repo and title of pull request\n",
    "\n",
    "\n",
    "# how it works\n",
    "\n",
    "- github cronjob daily at the end of my day 00:00 - collects data until back 00:01\n",
    "- telegram bot sends me a message with the data formatted\n",
    "\"\"\""
   ]
  },
  {
   "cell_type": "code",
   "execution_count": 30,
   "metadata": {},
   "outputs": [],
   "source": [
    "import requests\n",
    "from datetime import datetime, timedelta\n",
    "import pytz\n",
    "import os\n",
    "from dotenv import load_dotenv\n",
    "\n",
    "# Load environment variables from .env file\n",
    "load_dotenv()\n",
    "\n",
    "def fetch_last_event_local_time(username, token):\n",
    "    if not username or not token:\n",
    "        raise ValueError(\"GitHub username or token is not set.\")\n",
    "    \n",
    "    headers = {'Authorization': f'token {token}'}\n",
    "    url = f'https://api.github.com/users/{username}/events'\n",
    "    response = requests.get(url, headers=headers)\n",
    "    \n",
    "    if response.status_code != 200:\n",
    "        raise Exception(f\"Error fetching events: {response.status_code}\")\n",
    "\n",
    "    events = response.json()\n",
    "    if not events:\n",
    "        print(\"No events found for the user.\")\n",
    "        return None\n",
    "    \n",
    "    last_event_time_utc = events[0]['created_at']  # The last event's timestamp\n",
    "\n",
    "    # Convert to local time\n",
    "    dt = datetime.strptime(last_event_time_utc, '%Y-%m-%dT%H:%M:%SZ')\n",
    "    utc_time = dt.replace(tzinfo=pytz.UTC)\n",
    "    local_time = utc_time.astimezone()  # Convert to local timezone\n",
    "\n",
    "    return local_time"
   ]
  },
  {
   "cell_type": "code",
   "execution_count": 31,
   "metadata": {},
   "outputs": [
    {
     "name": "stdout",
     "output_type": "stream",
     "text": [
      "Current time: 2024-09-07 13:09:56.142089+02:00\n",
      "Time 24 hours back: 2024-09-06 13:09:56.142084+02:00\n"
     ]
    }
   ],
   "source": [
    "def get_time_24_hours_back(event_time):\n",
    "    # Get the current time in the same timezone as the event time\n",
    "    current_time = datetime.now(event_time.tzinfo)\n",
    "    \n",
    "    # Calculate the time 24 hours back\n",
    "    time_24_hours_back = current_time - timedelta(hours=24)\n",
    "    \n",
    "    return time_24_hours_back"
   ]
  },
  {
   "cell_type": "code",
   "execution_count": 42,
   "metadata": {},
   "outputs": [
    {
     "name": "stdout",
     "output_type": "stream",
     "text": [
      "Commits in the last 24 hours: [{'sha': '2214f255f64d6740b59f915e5ee08579f0090eac', 'author': {'email': '68147541+yachty66@users.noreply.github.com', 'name': 'Max Hager'}, 'message': 'Add GitHub activity tracking functionality to main notebook, including fetching user events and displaying commits in the last 24 hours. Updated execution count and created test data file.', 'distinct': True, 'url': 'https://api.github.com/repos/yachty66/ai_code_reviewer/commits/2214f255f64d6740b59f915e5ee08579f0090eac'}, {'sha': '2f215a123fd93134818ffae7377ee79d523a805e', 'author': {'email': '68147541+yachty66@users.noreply.github.com', 'name': 'Max Hager'}, 'message': 'test', 'distinct': True, 'url': 'https://api.github.com/repos/yachty66/ai_code_reviewer/commits/2f215a123fd93134818ffae7377ee79d523a805e'}, {'sha': '1af1355599060a088cf9359ce942a5abf5fd2b1d', 'author': {'email': '68147541+yachty66@users.noreply.github.com', 'name': 'Max Hager'}, 'message': 'Add GitHub activity tracking functionality to main notebook and create test data file. Updated execution count and added code to fetch user events from GitHub API.', 'distinct': True, 'url': 'https://api.github.com/repos/yachty66/ai_code_reviewer/commits/1af1355599060a088cf9359ce942a5abf5fd2b1d'}, {'sha': 'f6753ac8963acda17d7332a98465514a3853d0d6', 'author': {'email': '68147541+yachty66@users.noreply.github.com', 'name': 'Max Hager'}, 'message': 'Add GitHub activity tracker notebook to capture commits, lines of code, and repository statistics', 'distinct': True, 'url': 'https://api.github.com/repos/yachty66/ai_code_reviewer/commits/f6753ac8963acda17d7332a98465514a3853d0d6'}, {'sha': '8c67575d2934559a8c415204ab16f0ec7a1aa055', 'author': {'email': '68147541+yachty66@users.noreply.github.com', 'name': 'Max Hager'}, 'message': 'Add initial project structure for AI-powered code review application, including .gitignore, Issues documentation, and README with setup instructions. Implement core functionality for fetching code changes and generating feedback via email.', 'distinct': True, 'url': 'https://api.github.com/repos/yachty66/ai_code_reviewer/commits/8c67575d2934559a8c415204ab16f0ec7a1aa055'}, {'sha': '025c463d614db8675401e44a9162878912ec3b8f', 'author': {'email': '68147541+yachty66@users.noreply.github.com', 'name': 'Max Hager'}, 'message': 'Implement daily code review functionality: fetch commits since midnight, extract code changes, and generate email reports with metrics and feedback.', 'distinct': True, 'url': 'https://api.github.com/repos/yachty66/ai_code_reviewer/commits/025c463d614db8675401e44a9162878912ec3b8f'}, {'sha': '397b8679972fd965198b1b7a16afb44c0ed162d6', 'author': {'email': '68147541+yachty66@users.noreply.github.com', 'name': 'Max Hager'}, 'message': 'Add daily code review functionality: fetch commits since midnight, extract code changes, and generate email reports with metrics and feedback.', 'distinct': True, 'url': 'https://api.github.com/repos/yachty66/ai_code_reviewer/commits/397b8679972fd965198b1b7a16afb44c0ed162d6'}, {'sha': '38a6deeb61312dbb56632f2424c7330ef4d28d40', 'author': {'email': '68147541+yachty66@users.noreply.github.com', 'name': 'Max Hager'}, 'message': 'Implement daily code review functionality with email reports. Added features to fetch commits since midnight, extract code changes, and generate detailed feedback metrics. Updated README and fixed email contact information.', 'distinct': True, 'url': 'https://api.github.com/repos/yachty66/ai_code_reviewer/commits/38a6deeb61312dbb56632f2424c7330ef4d28d40'}, {'sha': '6d96d9f05d50cedb321767c0dca9518c6d63a7b1', 'author': {'email': '68147541+yachty66@users.noreply.github.com', 'name': 'Max Hager'}, 'message': 'Implement daily code review functionality without exposing secrets', 'distinct': True, 'url': 'https://api.github.com/repos/yachty66/ai_code_reviewer/commits/6d96d9f05d50cedb321767c0dca9518c6d63a7b1'}, {'sha': 'e6dd2f9741bf0bbdd158281bac296857a5025e0c', 'author': {'email': '68147541+yachty66@users.noreply.github.com', 'name': 'Max Hager'}, 'message': 'Add installation instructions to README and create a Colab notebook for GFPGAN video processing', 'distinct': True, 'url': 'https://api.github.com/repos/yachty66/GFPGAN_video/commits/e6dd2f9741bf0bbdd158281bac296857a5025e0c'}, {'sha': '7fc8812a00f326eaf1d3a247ce772dff9eaea690', 'author': {'email': '68147541+yachty66@users.noreply.github.com', 'name': 'Max Hager'}, 'message': 'init', 'distinct': True, 'url': 'https://api.github.com/repos/yachty66/GFPGAN_video/commits/7fc8812a00f326eaf1d3a247ce772dff9eaea690'}, {'sha': '0d910fb71090034988c5438266cd8b780c09d121', 'author': {'email': '68147541+yachty66@users.noreply.github.com', 'name': 'Max Hager'}, 'message': 'Add CORS middleware to check-job and create-job APIs, allowing specific origins and methods', 'distinct': True, 'url': 'https://api.github.com/repos/arXivGPT/pdf_to_markdown_website/commits/0d910fb71090034988c5438266cd8b780c09d121'}, {'sha': 'f645777f249602592ee2094f31554802a600a790', 'author': {'email': '68147541+yachty66@users.noreply.github.com', 'name': 'Max Hager'}, 'message': 'Update upload.js to modify S3 file path format for consistency in JSON payload', 'distinct': True, 'url': 'https://api.github.com/repos/arXivGPT/pdf_to_markdown_website/commits/f645777f249602592ee2094f31554802a600a790'}, {'sha': 'fd1956d5d32a5ba01a5b2dfae4994345b18509d1', 'author': {'email': '68147541+yachty66@users.noreply.github.com', 'name': 'Max Hager'}, 'message': 'Refactor upload.js: Remove redundant spinner hiding logic and clean up error handling', 'distinct': True, 'url': 'https://api.github.com/repos/arXivGPT/pdf_to_markdown_website/commits/fd1956d5d32a5ba01a5b2dfae4994345b18509d1'}, {'sha': 'bf91205a2d331baac0749838adb3f561b80390d3', 'author': {'email': '68147541+yachty66@users.noreply.github.com', 'name': 'Max Hager'}, 'message': 'Update pnpm-lock.yaml to add aws-sdk and formidable dependencies; refactor upload.js to use FormData for S3 uploads', 'distinct': True, 'url': 'https://api.github.com/repos/arXivGPT/pdf_to_markdown_website/commits/bf91205a2d331baac0749838adb3f561b80390d3'}, {'sha': '0187a05838e40cc3cbf5c07391aebb09031b6c13', 'author': {'email': '68147541+yachty66@users.noreply.github.com', 'name': 'Max Hager'}, 'message': 'Refactor API to use Fetch instead of Axios, add S3 upload functionality, and improve error handling', 'distinct': True, 'url': 'https://api.github.com/repos/arXivGPT/pdf_to_markdown_website/commits/0187a05838e40cc3cbf5c07391aebb09031b6c13'}, {'sha': 'ac974a2636ff55dfb58fe2da33b554117a305bed', 'author': {'email': '68147541+yachty66@users.noreply.github.com', 'name': 'Max Hager'}, 'message': 'Add axios package version 1.7.7 and its dependencies to pnpm-lock.yaml', 'distinct': True, 'url': 'https://api.github.com/repos/arXivGPT/pdf_to_markdown_website/commits/ac974a2636ff55dfb58fe2da33b554117a305bed'}, {'sha': '78e0b660ddc0a6db7661fc32820c982a415590b3', 'author': {'email': '68147541+yachty66@users.noreply.github.com', 'name': 'Max Hager'}, 'message': 'Refactor file upload process to use create-job API and implement polling for job status', 'distinct': True, 'url': 'https://api.github.com/repos/arXivGPT/pdf_to_markdown_website/commits/78e0b660ddc0a6db7661fc32820c982a415590b3'}, {'sha': '5177ec5a615705cfcf26e6625c52a4a474ff737d', 'author': {'email': '68147541+yachty66@users.noreply.github.com', 'name': 'Max Hager'}, 'message': 'Add API endpoints for job creation and status checking with Runpod integration. Implement error handling and response formatting.', 'distinct': True, 'url': 'https://api.github.com/repos/arXivGPT/pdf_to_markdown_website/commits/5177ec5a615705cfcf26e6625c52a4a474ff737d'}]\n",
      "Total commits in the last 24 hours: 19\n"
     ]
    }
   ],
   "source": [
    "def fetch_user_events(username, token):\n",
    "    if not username or not token:\n",
    "        raise ValueError(\"GitHub username or token is not set.\")\n",
    "    \n",
    "    headers = {\n",
    "        'Accept': 'application/vnd.github+json',\n",
    "        'Authorization': f'Bearer {token}',\n",
    "        'X-GitHub-Api-Version': '2022-11-28'\n",
    "    }\n",
    "    url = f'https://api.github.com/users/{username}/events'\n",
    "    response = requests.get(url, headers=headers)\n",
    "    \n",
    "    if response.status_code != 200:\n",
    "        raise Exception(f\"Error fetching events: {response.status_code}\")\n",
    "\n",
    "    events = response.json()\n",
    "    return events\n",
    "\n",
    "def filter_commits_last_24_hours(events, since, until):\n",
    "    commits = []\n",
    "    for event in events:\n",
    "        if event['type'] == 'PushEvent':\n",
    "            event_time = datetime.strptime(event['created_at'], '%Y-%m-%dT%H:%M:%SZ').replace(tzinfo=pytz.UTC)\n",
    "            if since <= event_time <= until:\n",
    "                for commit in event['payload']['commits']:\n",
    "                    commits.append(commit)\n",
    "    return commits\n",
    "\n",
    "# Example usage\n",
    "username = os.getenv('GITHUB_USER')\n",
    "token = os.getenv('GITHUB_TOKEN')\n",
    "\n",
    "# Step 1: Get the last event time in local timezone\n",
    "event_time = fetch_last_event_local_time(username, token)\n",
    "if event_time:\n",
    "    # Step 2: Calculate the time 24 hours back\n",
    "    time_24_hours_back = get_time_24_hours_back(event_time)\n",
    "    \n",
    "    # Step 3: Fetch all recent events\n",
    "    events = fetch_user_events(username, token)\n",
    "    \n",
    "    if events:\n",
    "        # Step 4: Filter commits from the last 24 hours\n",
    "        commits_last_24_hours = filter_commits_last_24_hours(events, time_24_hours_back, event_time)\n",
    "        print(\"Commits in the last 24 hours:\", commits_last_24_hours)\n",
    "        print(\"Total commits in the last 24 hours:\", len(commits_last_24_hours))"
   ]
  },
  {
   "cell_type": "code",
   "execution_count": null,
   "metadata": {},
   "outputs": [],
   "source": []
  },
  {
   "cell_type": "code",
   "execution_count": null,
   "metadata": {},
   "outputs": [],
   "source": []
  }
 ],
 "metadata": {
  "kernelspec": {
   "display_name": "base",
   "language": "python",
   "name": "python3"
  },
  "language_info": {
   "codemirror_mode": {
    "name": "ipython",
    "version": 3
   },
   "file_extension": ".py",
   "mimetype": "text/x-python",
   "name": "python",
   "nbconvert_exporter": "python",
   "pygments_lexer": "ipython3",
   "version": "3.11.9"
  }
 },
 "nbformat": 4,
 "nbformat_minor": 2
}
