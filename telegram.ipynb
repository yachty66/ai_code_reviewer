{
 "cells": [
  {
   "cell_type": "code",
   "execution_count": 4,
   "metadata": {},
   "outputs": [],
   "source": [
    "import asyncio\n",
    "import os\n",
    "from telegram import Bot\n",
    "from dotenv import load_dotenv\n",
    "\n",
    "load_dotenv()  # This line loads environment variables\n",
    "\n",
    "# Assuming the environment variables are set in a .env file\n",
    "TOKEN = os.getenv('TELEGRAM_TOKEN')\n",
    "CHAT_ID = os.getenv('TELEGRAM_CHAT_ID')\n",
    "\n",
    "async def send_hello():\n",
    "    bot = Bot(token=TOKEN)\n",
    "    await bot.send_message(chat_id=CHAT_ID, text=\"Hello\")\n",
    "\n",
    "if __name__ == '__main__':\n",
    "    asyncio.run(send_hello())"
   ]
  },
  {
   "cell_type": "code",
   "execution_count": null,
   "metadata": {},
   "outputs": [],
   "source": []
  }
 ],
 "metadata": {
  "kernelspec": {
   "display_name": "base",
   "language": "python",
   "name": "python3"
  },
  "language_info": {
   "codemirror_mode": {
    "name": "ipython",
    "version": 3
   },
   "file_extension": ".py",
   "mimetype": "text/x-python",
   "name": "python",
   "nbconvert_exporter": "python",
   "pygments_lexer": "ipython3",
   "version": "3.11.9"
  }
 },
 "nbformat": 4,
 "nbformat_minor": 2
}
