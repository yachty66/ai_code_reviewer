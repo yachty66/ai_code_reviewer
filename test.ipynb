{
 "cells": [
  {
   "cell_type": "code",
   "execution_count": 1,
   "metadata": {},
   "outputs": [
    {
     "name": "stdout",
     "output_type": "stream",
     "text": [
      "[{'total_lines_code_added': 9637}, {'total_lines_code_removed': 1859}, {'total_commits': 26}, {'commits_per_repo': [{'repo_name': 'yachty66/ai_code_reviewer', 'commit_count': 22}, {'repo_name': 'yachty66/nextjs-with-supabase', 'commit_count': 1}, {'repo_name': 'yachty66/GFPGAN_video', 'commit_count': 2}, {'repo_name': 'arXivGPT/pdf_to_markdown_website', 'commit_count': 1}]}, {'repos_created_last_24_hours': ['yachty66/GFPGAN_video']}, {'issues_opened_last_24_hours': []}, {'pull_requests_opened_last_24_hours': [{'repo_name': 'yachty66/nextjs-with-supabase', 'pr_title': 'Update tsconfig.json'}]}]\n"
     ]
    }
   ],
   "source": [
    "import os\n",
    "from github import collect_github_activity\n",
    "\n",
    "# Load environment variables from .env file\n",
    "from dotenv import load_dotenv\n",
    "load_dotenv()\n",
    "\n",
    "username = os.getenv('GITHUB_USER')\n",
    "token = os.getenv('GITHUB_TOKEN')\n",
    "\n",
    "activity_summary = collect_github_activity(username, token)\n",
    "print(activity_summary)"
   ]
  },
  {
   "cell_type": "code",
   "execution_count": null,
   "metadata": {},
   "outputs": [],
   "source": []
  }
 ],
 "metadata": {
  "kernelspec": {
   "display_name": "base",
   "language": "python",
   "name": "python3"
  },
  "language_info": {
   "codemirror_mode": {
    "name": "ipython",
    "version": 3
   },
   "file_extension": ".py",
   "mimetype": "text/x-python",
   "name": "python",
   "nbconvert_exporter": "python",
   "pygments_lexer": "ipython3",
   "version": "3.11.9"
  }
 },
 "nbformat": 4,
 "nbformat_minor": 2
}
