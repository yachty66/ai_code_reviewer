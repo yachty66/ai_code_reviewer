{
 "cells": [
  {
   "cell_type": "code",
   "execution_count": 6,
   "metadata": {},
   "outputs": [
    {
     "ename": "TypeError",
     "evalue": "unsupported operand type(s) for -: 'str' and 'datetime.datetime'",
     "output_type": "error",
     "traceback": [
      "\u001b[0;31m---------------------------------------------------------------------------\u001b[0m",
      "\u001b[0;31mTypeError\u001b[0m                                 Traceback (most recent call last)",
      "Cell \u001b[0;32mIn[6], line 21\u001b[0m\n\u001b[1;32m     19\u001b[0m target_time \u001b[38;5;241m=\u001b[39m current_time\u001b[38;5;241m.\u001b[39mreplace(hour\u001b[38;5;241m=\u001b[39m\u001b[38;5;241m0\u001b[39m, minute\u001b[38;5;241m=\u001b[39m\u001b[38;5;241m0\u001b[39m, second\u001b[38;5;241m=\u001b[39m\u001b[38;5;241m0\u001b[39m, microsecond\u001b[38;5;241m=\u001b[39m\u001b[38;5;241m0\u001b[39m)\n\u001b[1;32m     20\u001b[0m current_time \u001b[38;5;241m=\u001b[39m \u001b[38;5;124m\"\u001b[39m\u001b[38;5;124m2024-09-07 00:00:00+02:00\u001b[39m\u001b[38;5;124m\"\u001b[39m\n\u001b[0;32m---> 21\u001b[0m time_difference \u001b[38;5;241m=\u001b[39m (\u001b[43mcurrent_time\u001b[49m\u001b[43m \u001b[49m\u001b[38;5;241;43m-\u001b[39;49m\u001b[43m \u001b[49m\u001b[43mtarget_time\u001b[49m)\u001b[38;5;241m.\u001b[39mtotal_seconds() \u001b[38;5;241m/\u001b[39m \u001b[38;5;241m60\u001b[39m\n\u001b[1;32m     22\u001b[0m \u001b[38;5;28mprint\u001b[39m(\u001b[38;5;124m\"\u001b[39m\u001b[38;5;124mtime_difference\u001b[39m\u001b[38;5;124m\"\u001b[39m, time_difference)\n\u001b[1;32m     24\u001b[0m \u001b[38;5;28mprint\u001b[39m(\u001b[38;5;124m\"\u001b[39m\u001b[38;5;124mtarget_time\u001b[39m\u001b[38;5;124m\"\u001b[39m, target_time)\n",
      "\u001b[0;31mTypeError\u001b[0m: unsupported operand type(s) for -: 'str' and 'datetime.datetime'"
     ]
    }
   ],
   "source": [
    "import os\n",
    "import json\n",
    "import subprocess\n",
    "from github import collect_github_activity, fetch_last_event_local_time\n",
    "from datetime import datetime, timedelta\n",
    "import pytz\n",
    "\n",
    "# Load environment variables from .env file\n",
    "from dotenv import load_dotenv\n",
    "load_dotenv()\n",
    "\n",
    "username = os.getenv(\"USER_GITHUB\")\n",
    "token = os.getenv(\"TOKEN_GITHUB\")\n",
    "\n",
    "\n",
    "last_event_time = fetch_last_event_local_time(username, token)\n",
    "timezone = last_event_time.tzinfo\n",
    "current_time = datetime.now(timezone)\n",
    "target_time = current_time.replace(hour=0, minute=0, second=0, microsecond=0)\n",
    "\n",
    "time_difference = (current_time - target_time).total_seconds() / 60\n",
    "\n",
    "if -5 <= time_difference <= 5:\n",
    "    print(\"It's time\")\n",
    "    return True\n",
    "    print(\"Not time yet\")\n",
    "return False\n",
    "print(\"time_difference\", time_difference)\n",
    "\n",
    "print(\"target_time\", target_time)\n",
    "\n",
    "print(\"current_time\", current_time)\n",
    "\n",
    "print(\"last_event_time\", last_event_time)\n",
    "print(\"timezone\", timezone)"
   ]
  },
  {
   "cell_type": "code",
   "execution_count": null,
   "metadata": {},
   "outputs": [],
   "source": []
  }
 ],
 "metadata": {
  "kernelspec": {
   "display_name": "base",
   "language": "python",
   "name": "python3"
  },
  "language_info": {
   "codemirror_mode": {
    "name": "ipython",
    "version": 3
   },
   "file_extension": ".py",
   "mimetype": "text/x-python",
   "name": "python",
   "nbconvert_exporter": "python",
   "pygments_lexer": "ipython3",
   "version": "3.11.9"
  }
 },
 "nbformat": 4,
 "nbformat_minor": 2
}
